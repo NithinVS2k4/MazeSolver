{
 "cells": [
  {
   "cell_type": "code",
   "execution_count": 1,
   "id": "63b66d00-d7f4-4116-82dc-93672e23be70",
   "metadata": {},
   "outputs": [],
   "source": [
    "import numpy as np\n",
    "import matplotlib.pyplot as plt\n",
    "import cv2"
   ]
  },
  {
   "cell_type": "code",
   "execution_count": 26,
   "id": "49a63859-7c69-46d8-91a2-c74e2bdff5dc",
   "metadata": {},
   "outputs": [],
   "source": [
    "CONFIG = {\n",
    "    'sample_maze': {\n",
    "        'generate': {\n",
    "            'maze_shape': (4,4),\n",
    "            'num_mazes': 1,\n",
    "        },\n",
    "        'draw': {\n",
    "            'wall_thickness': 2,\n",
    "            'figsize': (4,4),\n",
    "        }\n",
    "    },\n",
    "    'dataset': {\n",
    "        'generate': {\n",
    "            'maze_shape' : (5,5),\n",
    "            'num_mazes': 5_000,\n",
    "        },\n",
    "        'get_imgs': {\n",
    "            'img_config': {\n",
    "                'cell_size': 10\n",
    "            }\n",
    "        }\n",
    "    }\n",
    "    \n",
    "}"
   ]
  },
  {
   "cell_type": "code",
   "execution_count": 30,
   "id": "4ba43ddb-f942-43bc-9c14-6d4622c0ed06",
   "metadata": {},
   "outputs": [],
   "source": [
    "class Maze:\n",
    "    def __init__(self, shape):\n",
    "        self.shape = shape\n",
    "        \n",
    "        self.NORTH, self.EAST, self.WEST, self.SOUTH = [0b1000, 0b0100, 0b0010, 0b0001]\n",
    "        self.ALL = 0b1111\n",
    "        \n",
    "        self.maze = np.zeros(self.shape, dtype = np.int8) + self.ALL \n",
    "\n",
    "    def set_maze(self, new_maze):\n",
    "        self.shape = new_maze.shape\n",
    "        self.maze = new_maze\n",
    "\n",
    "    def is_out_of_bounds(self, point):\n",
    "        return point[0] < 0 or point[0] >= self.shape[0] or point[1] < 0 or point[1] >= self.shape[1]\n",
    "\n",
    "    \n",
    "    def draw(self, wall_thickness=2, figsize=(6, 6)):\n",
    "        H, W = self.shape\n",
    "        fig, ax = plt.subplots(figsize=figsize)\n",
    "    \n",
    "        # Disable axes spines and ticks\n",
    "        ax.set_xticks([])\n",
    "        ax.set_yticks([])\n",
    "        for spine in ax.spines.values():\n",
    "            spine.set_visible(False)\n",
    "    \n",
    "        # Draw walls for each cell\n",
    "        for y in range(H):\n",
    "            for x in range(W):\n",
    "                walls = self.maze[y, x]\n",
    "                x0, y0 = x, y  # Top-left origin: no y-flip\n",
    "                # Draw walls if present\n",
    "                if walls & self.NORTH:  # North\n",
    "                    ax.plot([x0, x0 + 1], [y0, y0], 'k-', linewidth=wall_thickness, solid_capstyle='butt')\n",
    "                if walls & self.EAST:  # East\n",
    "                    ax.plot([x0 + 1, x0 + 1], [y0, y0 + 1], 'k-', linewidth=wall_thickness, solid_capstyle='butt')\n",
    "                if walls & self.WEST:  # West\n",
    "                    ax.plot([x0, x0], [y0, y0 + 1], 'k-', linewidth=wall_thickness, solid_capstyle='butt')\n",
    "                if walls & self.SOUTH:  # South\n",
    "                    ax.plot([x0, x0 + 1], [y0 + 1, y0 + 1], 'k-', linewidth=wall_thickness, solid_capstyle='butt')\n",
    "    \n",
    "        # Draw outer border explicitly with same thickness\n",
    "        ax.plot([0, W], [0, 0], 'k-', linewidth=wall_thickness + 2, solid_capstyle='butt')      # Top\n",
    "        ax.plot([0, W], [H, H], 'k-', linewidth=wall_thickness + 2, solid_capstyle='butt')      # Bottom\n",
    "        ax.plot([0, 0], [0, H], 'k-', linewidth=wall_thickness + 2, solid_capstyle='butt')      # Left\n",
    "        ax.plot([W, W], [0, H], 'k-', linewidth=wall_thickness + 2, solid_capstyle='butt')      # Right\n",
    "    \n",
    "        # Set limits and aspect\n",
    "        ax.set_aspect('equal')\n",
    "        ax.set_xlim(0, W)\n",
    "        ax.set_ylim(0, H)\n",
    "        ax.invert_yaxis()  \n",
    "        \n",
    "        plt.show()\n",
    "        \n",
    "    \n",
    "    def get_maze_img(self, cell_size=30):\n",
    "        maze = self.maze\n",
    "        H, W = maze.shape\n",
    "        img_h = H * cell_size + (H+1) * cell_size # H empty and H+1 walls \n",
    "        img_w = W * cell_size + (W+1) * cell_size\n",
    "        img = np.zeros((img_h, img_w, 3), dtype=np.uint8) + 255\n",
    "    \n",
    "        for y in range(H):\n",
    "            for x in range(W):\n",
    "                cx, cy = (2*x+1)*cell_size, (2*y+1)*cell_size\n",
    "                walls = maze[y, x]\n",
    "    \n",
    "                if walls & self.NORTH:\n",
    "                    tl = [cx - cell_size, cy - cell_size]\n",
    "                    tr = [cx + 2 * cell_size, cy - cell_size]\n",
    "                    br = [cx + 2 * cell_size, cy]\n",
    "                    bl = [cx - cell_size, cy]\n",
    "                    poly = np.array([tl, tr, br, bl], dtype=np.int32).reshape((-1, 1, 2))\n",
    "                    cv2.fillPoly(img, [poly], 0)\n",
    "                \n",
    "                if walls & self.EAST:\n",
    "                    tl = [cx + cell_size, cy - cell_size]\n",
    "                    tr = [cx + 2 * cell_size, cy - cell_size]\n",
    "                    br = [cx + 2 * cell_size, cy + 2 * cell_size]\n",
    "                    bl = [cx + cell_size, cy + 2 * cell_size]\n",
    "                    poly = np.array([tl, tr, br, bl], dtype=np.int32).reshape((-1, 1, 2))\n",
    "                    cv2.fillPoly(img, [poly], 0)\n",
    "    \n",
    "                if walls & self.WEST:\n",
    "                    tl = [cx - cell_size, cy - cell_size]\n",
    "                    tr = [cx, cy - cell_size]\n",
    "                    br = [cx, cy + 2 * cell_size]\n",
    "                    bl = [cx - cell_size, cy + 2 * cell_size]\n",
    "                    poly = np.array([tl, tr, br, bl], dtype=np.int32).reshape((-1, 1, 2))\n",
    "                    cv2.fillPoly(img, [poly], 0)\n",
    "                    \n",
    "                if walls & self.SOUTH:\n",
    "                    tl = [cx - cell_size, cy + cell_size]\n",
    "                    tr = [cx + 2 * cell_size, cy + cell_size]\n",
    "                    br = [cx + 2 * cell_size, cy + 2 * cell_size]\n",
    "                    bl = [cx - cell_size, cy + 2 * cell_size]\n",
    "                    poly = np.array([tl, tr, br, bl], dtype=np.int32).reshape((-1, 1, 2))\n",
    "                    cv2.fillPoly(img, [poly], 0)\n",
    "                      \n",
    "        return img\n",
    "\n",
    "\n",
    "class MazeGenerator:\n",
    "    def __init__(self):\n",
    "        self.dirns = np.array([[-1,0], [0,1], [0,-1], [1,0]]) # NEWS\n",
    "        self.NORTH, self.EAST, self.WEST, self.SOUTH = [0b1000, 0b0100, 0b0010, 0b0001]\n",
    "        self.ALL = 0b1111\n",
    "        self.dirn_masks = [self.NORTH, self.EAST, self.WEST, self.SOUTH]\n",
    "    \n",
    "    def generate(self, maze, point):\n",
    "        rand_dirns = np.random.permutation(4)\n",
    "        for k in rand_dirns:\n",
    "            next_point = point+self.dirns[k]\n",
    "            if maze.is_out_of_bounds(next_point): continue\n",
    "            if maze.maze[next_point[0], next_point[1]] == self.ALL:\n",
    "                maze.maze[point[0], point[1]] &= ~self.dirn_masks[k]\n",
    "                maze.maze[next_point[0], next_point[1]] &= ~self.dirn_masks[3-k]\n",
    "                self.generate(maze, point + self.dirns[k])\n",
    "\n",
    "        return maze\n",
    "    \n",
    "    def generate_mazes(self, maze_shape, num_mazes=1):\n",
    "        if num_mazes == 1:\n",
    "            rand_loc = [np.random.randint(maze_shape[0]), np.random.randint(maze_shape[1])]\n",
    "            return self.generate(Maze(maze_shape), np.array(rand_loc))\n",
    "        \n",
    "        mazes = []\n",
    "        for i in range(num_mazes):\n",
    "            rand_loc = [np.random.randint(maze_shape[0]), np.random.randint(maze_shape[1])]\n",
    "            mazes.append(self.generate(Maze(maze_shape), np.array(rand_loc)))\n",
    "            \n",
    "            print(f\"\\r{i+1}/{num_mazes} mazes generated\",end = '')\n",
    "        print()\n",
    "        return np.asarray(mazes)\n",
    "\n",
    "    \n",
    "    def filter_duplicates(self, maze_dataset):\n",
    "\n",
    "        if maze_dataset.ndim == 3:\n",
    "            N, H, W = maze_dataset.shape\n",
    "            C = 1\n",
    "        else:\n",
    "            N, H, W, C = maze_dataset.shape\n",
    "        maze_dataset_reshaped = maze_dataset.reshape(N, -1)\n",
    "        \n",
    "        contiguous_dataset = np.ascontiguousarray(maze_dataset_reshaped).view(\n",
    "            np.dtype((np.void, maze_dataset_reshaped.dtype.itemsize * H * W * C))\n",
    "        )\n",
    "        \n",
    "        _, unique_idx = np.unique(contiguous_dataset, return_index=True)\n",
    "        unique_idx.sort()  # sort indices back to original order\n",
    "        unique_mazes = maze_dataset[unique_idx]\n",
    "        return unique_mazes\n",
    "\n",
    "    \n",
    "    def get_maze_images(self, mazes, img_config={}):\n",
    "        images = []\n",
    "        num_mazes = len(mazes)\n",
    "        for i,maze in enumerate(mazes):\n",
    "            images.append(maze.get_maze_img(**img_config))\n",
    "            print(f\"\\r{i+1}/{num_mazes} images created.\",end = '')\n",
    "        print()\n",
    "        return np.asarray(images)\n"
   ]
  },
  {
   "cell_type": "code",
   "execution_count": 31,
   "id": "785b94e9-99c9-4c5d-accd-6e928d70eef7",
   "metadata": {},
   "outputs": [],
   "source": [
    "maze_gen = MazeGenerator()\n",
    "sample_maze = maze_gen.generate_mazes(**CONFIG['sample_maze']['generate'])"
   ]
  },
  {
   "cell_type": "code",
   "execution_count": 32,
   "id": "e12e7f2c-14c8-42c5-a592-d8a71f9b6b43",
   "metadata": {},
   "outputs": [
    {
     "name": "stdout",
     "output_type": "stream",
     "text": [
      "(270, 270, 3)\n"
     ]
    },
    {
     "data": {
      "image/png": "[encoded data removed]",
      "text/plain": [
       "<Figure size 640x480 with 1 Axes>"
      ]
     },
     "metadata": {},
     "output_type": "display_data"
    },
    {
     "name": "stdout",
     "output_type": "stream",
     "text": [
      "(4, 4)\n"
     ]
    }
   ],
   "source": [
    "# sample_maze.draw(**CONFIG['sample_maze']['draw'])\n",
    "plt.imshow(sample_maze.get_maze_img())\n",
    "print(sample_maze.get_maze_img().shape)\n",
    "plt.show()\n",
    "print(sample_maze.maze.shape)"
   ]
  },
  {
   "cell_type": "code",
   "execution_count": 33,
   "id": "12f692a4-4a8f-4178-9a4b-af923a7d7d77",
   "metadata": {},
   "outputs": [
    {
     "name": "stdout",
     "output_type": "stream",
     "text": [
      "5000/5000 mazes generated\n",
      "5000/5000 images created.\n",
      "(5, 5)\n",
      "Image dimensions: (110, 110, 3)\n",
      "Before filter: 5000 images\n",
      "After filter: 4973 images\n"
     ]
    }
   ],
   "source": [
    "mazes = maze_gen.generate_mazes(**CONFIG['dataset']['generate'])\n",
    "dataset = maze_gen.get_maze_images(mazes, **CONFIG['dataset']['get_imgs'])\n",
    "\n",
    "mazes_arr = []\n",
    "for maze in mazes:\n",
    "    mazes_arr.append(maze.maze)\n",
    "mazes_arr = np.asarray(mazes_arr)\n",
    "\n",
    "mazes_unq = maze_gen.filter_duplicates(mazes_arr)\n",
    "dataset_unq = maze_gen.filter_duplicates(dataset)\n",
    "\n",
    "print(mazes_unq[0].shape)\n",
    "\n",
    "print(f\"Image dimensions: {dataset.shape[1:]}\")\n",
    "print(f\"Before filter: {dataset.shape[0]} images\")\n",
    "print(f\"After filter: {dataset_unq.shape[0]} images\")\n",
    "\n",
    "np.save(\"Data/mazes5by5.npy\", mazes_unq, allow_pickle = False)\n",
    "np.save(\"Data/maze_imgs5by5.npy\", dataset_unq, allow_pickle = False)"
   ]
  },
  {
   "cell_type": "code",
   "execution_count": 11,
   "id": "d7eb28aa-1a13-4120-ad8b-7888692c9797",
   "metadata": {},
   "outputs": [
    {
     "name": "stdout",
     "output_type": "stream",
     "text": [
      "[[11  9  8  8 13]\n",
      " [10 13  6  3 12]\n",
      " [ 6 11  1 13  6]\n",
      " [ 3  9  9  9  4]\n",
      " [11  9  9  9  5]]\n"
     ]
    },
    {
     "data": {
      "image/png": "[encoded data removed]",
      "text/plain": [
       "<Figure size 600x600 with 1 Axes>"
      ]
     },
     "metadata": {},
     "output_type": "display_data"
    },
    {
     "data": {
      "text/plain": [
       "<matplotlib.image.AxesImage at 0x15ccbd450>"
      ]
     },
     "execution_count": 11,
     "metadata": {},
     "output_type": "execute_result"
    },
    {
     "data": {
      "image/png": "[encoded data removed]",
      "text/plain": [
       "<Figure size 640x480 with 1 Axes>"
      ]
     },
     "metadata": {},
     "output_type": "display_data"
    }
   ],
   "source": [
    "idx = 86\n",
    "print(mazes_unq[idx])\n",
    "test_maze = Maze((6,6))\n",
    "test_maze.set_maze(mazes_unq[idx])\n",
    "test_maze.draw()\n",
    "plt.imshow(dataset_unq[idx])"
   ]
  },
  {
   "cell_type": "code",
   "execution_count": null,
   "id": "bed0dd54-8b73-40e5-9e7c-34d98010dedc",
   "metadata": {},
   "outputs": [],
   "source": []
  }
 ],
 "metadata": {
  "kernelspec": {
   "display_name": "Python 3 (ipykernel)",
   "language": "python",
   "name": "python3"
  },
  "language_info": {
   "codemirror_mode": {
    "name": "ipython",
    "version": 3
   },
   "file_extension": ".py",
   "mimetype": "text/x-python",
   "name": "python",
   "nbconvert_exporter": "python",
   "pygments_lexer": "ipython3",
   "version": "3.10.14"
  }
 },
 "nbformat": 4,
 "nbformat_minor": 5
}
